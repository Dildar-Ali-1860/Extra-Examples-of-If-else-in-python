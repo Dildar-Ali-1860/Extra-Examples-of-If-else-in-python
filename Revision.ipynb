{
 "cells": [
  {
   "cell_type": "code",
   "execution_count": 1,
   "id": "eb58d15b",
   "metadata": {},
   "outputs": [
    {
     "name": "stdout",
     "output_type": "stream",
     "text": [
      "Hello python\n"
     ]
    }
   ],
   "source": [
    "print(\"Hello python\")"
   ]
  },
  {
   "cell_type": "code",
   "execution_count": 2,
   "id": "1cdd286e",
   "metadata": {},
   "outputs": [
    {
     "data": {
      "text/plain": [
       "99"
      ]
     },
     "execution_count": 2,
     "metadata": {},
     "output_type": "execute_result"
    }
   ],
   "source": [
    "a=range(1,100)\n",
    "max(a)"
   ]
  },
  {
   "cell_type": "code",
   "execution_count": 3,
   "id": "245764e7",
   "metadata": {},
   "outputs": [
    {
     "data": {
      "text/plain": [
       "1"
      ]
     },
     "execution_count": 3,
     "metadata": {},
     "output_type": "execute_result"
    }
   ],
   "source": [
    "min(a)"
   ]
  },
  {
   "cell_type": "code",
   "execution_count": 4,
   "id": "349c89ae",
   "metadata": {},
   "outputs": [
    {
     "data": {
      "text/plain": [
       "4950"
      ]
     },
     "execution_count": 4,
     "metadata": {},
     "output_type": "execute_result"
    }
   ],
   "source": [
    "sum(a)"
   ]
  },
  {
   "cell_type": "code",
   "execution_count": 2,
   "id": "9542be67",
   "metadata": {},
   "outputs": [
    {
     "name": "stdout",
     "output_type": "stream",
     "text": [
      "My name is Dildar And i'm AI student. \n"
     ]
    }
   ],
   "source": [
    "message=\"My name is Dildar\"\n",
    "a=\"And i'm AI student. \"\n",
    "print(message,a)"
   ]
  },
  {
   "cell_type": "code",
   "execution_count": 3,
   "id": "c07b1308",
   "metadata": {},
   "outputs": [
    {
     "name": "stdout",
     "output_type": "stream",
     "text": [
      "Hi Dildar\n",
      "How are you\n"
     ]
    }
   ],
   "source": [
    "a=\"Hi Dildar\"\n",
    "print(a)\n",
    "b=\"How are you\"\n",
    "print(b)"
   ]
  },
  {
   "cell_type": "code",
   "execution_count": 4,
   "id": "1813ff40",
   "metadata": {},
   "outputs": [
    {
     "name": "stdout",
     "output_type": "stream",
     "text": [
      "My first bicyle was  Honda\n"
     ]
    }
   ],
   "source": [
    "bicycle=[\"Honda\",\"Suzuki\",125]\n",
    "print(\"My first bicyle was \",bicycle[0])"
   ]
  },
  {
   "cell_type": "code",
   "execution_count": 5,
   "id": "ea08f508",
   "metadata": {},
   "outputs": [
    {
     "name": "stdout",
     "output_type": "stream",
     "text": [
      "My first bicyle was  Suzuki\n"
     ]
    }
   ],
   "source": [
    "bicycle=[\"Honda\",\"Suzuki\",125]\n",
    "print(\"My first bicyle was \",bicycle[1])"
   ]
  },
  {
   "cell_type": "code",
   "execution_count": 6,
   "id": "4f6550eb",
   "metadata": {},
   "outputs": [
    {
     "name": "stdout",
     "output_type": "stream",
     "text": [
      "My first bicyle was  125\n"
     ]
    }
   ],
   "source": [
    "bicycle=[\"Honda\",\"Suzuki\",125]\n",
    "print(\"My first bicyle was \",bicycle[-1])"
   ]
  },
  {
   "cell_type": "code",
   "execution_count": 16,
   "id": "d9384f81",
   "metadata": {},
   "outputs": [
    {
     "name": "stdout",
     "output_type": "stream",
     "text": [
      "I have  Honda  motorcycle\n",
      "I have  suzuki  motorcycle\n",
      "I have  tata  motorcycle\n"
     ]
    }
   ],
   "source": [
    "bicycle=\"Honda\",\"suzuki\",\"tata\"\n",
    "for i in bicycle:\n",
    "    \n",
    "    print(\"I have \",i,\" motorcycle\")"
   ]
  },
  {
   "cell_type": "code",
   "execution_count": 19,
   "id": "96e445c9",
   "metadata": {},
   "outputs": [
    {
     "name": "stdout",
     "output_type": "stream",
     "text": [
      "My last motorcylce was Tata\n"
     ]
    }
   ],
   "source": [
    "bicycle=[\"Honda\",\"suzuki\",\"tata\"]\n",
    "lst=bicycle.pop()\n",
    "print(\"My last motorcylce was\",lst.title())"
   ]
  },
  {
   "cell_type": "code",
   "execution_count": 20,
   "id": "562ee7b7",
   "metadata": {},
   "outputs": [
    {
     "name": "stdout",
     "output_type": "stream",
     "text": [
      "My last motorcylce was Suzuki\n"
     ]
    }
   ],
   "source": [
    "bicycle=[\"Honda\",\"suzuki\",\"tata\"]\n",
    "nd=bicycle[1]\n",
    "print(\"My last motorcylce was\",nd.title())"
   ]
  },
  {
   "cell_type": "code",
   "execution_count": 21,
   "id": "5e49d710",
   "metadata": {},
   "outputs": [
    {
     "name": "stdout",
     "output_type": "stream",
     "text": [
      "A Tata motorcycle was too expenxive for me!\n"
     ]
    }
   ],
   "source": [
    "bicycle=[\"Honda\",\"suzuki\",\"tata\"]\n",
    "too_expensive=\"tata\"\n",
    "print(\"A\",too_expensive.title(),\"motorcycle was too expenxive for me!\")"
   ]
  },
  {
   "cell_type": "code",
   "execution_count": 23,
   "id": "afe7379f",
   "metadata": {},
   "outputs": [
    {
     "ename": "AttributeError",
     "evalue": "'list' object has no attribute 'title'",
     "output_type": "error",
     "traceback": [
      "\u001b[1;31m---------------------------------------------------------------------------\u001b[0m",
      "\u001b[1;31mAttributeError\u001b[0m                            Traceback (most recent call last)",
      "Input \u001b[1;32mIn [23]\u001b[0m, in \u001b[0;36m<cell line: 2>\u001b[1;34m()\u001b[0m\n\u001b[0;32m      1\u001b[0m lst\u001b[38;5;241m=\u001b[39m[\u001b[38;5;124m\"\u001b[39m\u001b[38;5;124mAamir\u001b[39m\u001b[38;5;124m\"\u001b[39m,\u001b[38;5;124m\"\u001b[39m\u001b[38;5;124mBilal\u001b[39m\u001b[38;5;124m\"\u001b[39m,\u001b[38;5;124m\"\u001b[39m\u001b[38;5;124mUmair\u001b[39m\u001b[38;5;124m\"\u001b[39m]\n\u001b[1;32m----> 2\u001b[0m \u001b[38;5;28mprint\u001b[39m(\u001b[38;5;124m\"\u001b[39m\u001b[38;5;124myou are inviting at my home for dinner\u001b[39m\u001b[38;5;124m\"\u001b[39m,\u001b[43mlst\u001b[49m\u001b[38;5;241;43m.\u001b[39;49m\u001b[43mtitle\u001b[49m())\n",
      "\u001b[1;31mAttributeError\u001b[0m: 'list' object has no attribute 'title'"
     ]
    }
   ],
   "source": [
    "lst=[\"Aamir\",\"Bilal\",\"Umair\"]\n",
    "print(\"you are inviting at my home for dinner\",lst.title())"
   ]
  },
  {
   "cell_type": "code",
   "execution_count": 24,
   "id": "050033f4",
   "metadata": {},
   "outputs": [
    {
     "name": "stdout",
     "output_type": "stream",
     "text": [
      "You are invited at my home for dinner Aamir\n",
      "You are invited at my home for dinner Bilal\n",
      "You are invited at my home for dinner Umair\n"
     ]
    }
   ],
   "source": [
    "for a in lst:\n",
    "    print(\"You are invited at my home for dinner\",a.title())"
   ]
  },
  {
   "cell_type": "code",
   "execution_count": 33,
   "id": "a2c4d966",
   "metadata": {},
   "outputs": [
    {
     "data": {
      "text/plain": [
       "['Zameer', 'asif', 'Aamir', 'bilal', 'Barkat', 'chat']"
      ]
     },
     "execution_count": 33,
     "metadata": {},
     "output_type": "execute_result"
    }
   ],
   "source": [
    "a=[\"Zameer\",\"asif\",'Aamir',\"bilal\",'Barkat',\"chat\"]\n",
    "#a.sort()\n",
    "a"
   ]
  },
  {
   "cell_type": "code",
   "execution_count": 30,
   "id": "c41bc8a1",
   "metadata": {},
   "outputs": [
    {
     "data": {
      "text/plain": [
       "['Aamir', 'Barkat', 'Zameer', 'asif', 'bilal', 'chat']"
      ]
     },
     "execution_count": 30,
     "metadata": {},
     "output_type": "execute_result"
    }
   ],
   "source": [
    "a.sort()\n",
    "a"
   ]
  },
  {
   "cell_type": "code",
   "execution_count": 37,
   "id": "12c3a8e4",
   "metadata": {},
   "outputs": [
    {
     "data": {
      "text/plain": [
       "['Zameer', 'asif', 'Aamir', 'bilal', 'Barkat', 'chat']"
      ]
     },
     "execution_count": 37,
     "metadata": {},
     "output_type": "execute_result"
    }
   ],
   "source": [
    "a.reverse()\n",
    "a"
   ]
  },
  {
   "cell_type": "code",
   "execution_count": 38,
   "id": "b235c64d",
   "metadata": {},
   "outputs": [
    {
     "data": {
      "text/plain": [
       "6"
      ]
     },
     "execution_count": 38,
     "metadata": {},
     "output_type": "execute_result"
    }
   ],
   "source": [
    "len(a)"
   ]
  },
  {
   "cell_type": "code",
   "execution_count": 51,
   "id": "913cf60f",
   "metadata": {},
   "outputs": [
    {
     "name": "stdout",
     "output_type": "stream",
     "text": [
      "[1, 4, 9, 16, 36, 49]\n"
     ]
    }
   ],
   "source": [
    "numbers=list(i**2 for i in range(1,8) if i!=5  )\n",
    "print(numbers)"
   ]
  },
  {
   "cell_type": "code",
   "execution_count": 61,
   "id": "7123c271",
   "metadata": {},
   "outputs": [
    {
     "name": "stdout",
     "output_type": "stream",
     "text": [
      "Audi\n",
      "Bmw\n",
      "Subaru\n",
      "Toyota\n"
     ]
    }
   ],
   "source": [
    "cars = ['audi', 'bmw', 'subaru', 'toyota']\n",
    "for car in cars:\n",
    "    \n",
    "    \n",
    "        if car == 'sss':\n",
    "             print(car.upper())\n",
    "        else:\n",
    "            print(car.title())"
   ]
  },
  {
   "cell_type": "code",
   "execution_count": 2,
   "id": "f347accf",
   "metadata": {},
   "outputs": [
    {
     "name": "stdout",
     "output_type": "stream",
     "text": [
      "0 5 7 10 14 15 20 21 25 28 30 35 40 42 45 49 50 55 56 60 63 65 70 75 77 80 84 85 90 91 95 98 100 105 110 112 115 119 120 125 126 130 133 135 140 145 147 150 154 155 160 161 165 168 170 175 180 182 185 189 190 195 196 200 203 205 210 215 217 220 224 225 230 231 235 238 240 245 250 252 255 259 260 265 266 270 273 275 280 285 287 290 294 295 300 301 305 308 310 315 320 322 325 329 330 335 336 340 343 345 350 355 357 360 364 365 370 371 375 378 380 385 390 392 395 399 400 405 406 410 413 415 420 425 427 430 434 435 440 441 445 448 450 455 460 462 465 469 470 475 476 480 483 485 490 495 497 500 504 505 510 511 515 518 520 525 530 532 535 539 540 545 546 550 553 555 560 565 567 570 574 575 580 581 585 588 590 595 600 602 605 609 610 615 616 620 623 625 630 635 637 640 644 645 650 651 655 658 660 665 670 672 675 679 680 685 686 690 693 695 700 705 707 710 714 715 720 721 725 728 730 735 740 742 745 749 750 755 756 760 763 765 770 775 777 780 784 785 790 791 795 798 800 805 810 812 815 819 820 825 826 830 833 835 840 845 847 850 854 855 860 861 865 868 870 875 880 882 885 889 890 895 896 900 903 905 910 915 917 920 924 925 930 931 935 938 940 945 950 952 955 959 960 965 966 970 973 975 980 985 987 990 994 995 1000 1001 1005 1008 1010 1015 1020 1022 1025 1029 1030 1035 1036 1040 1043 1045 1050 1055 1057 1060 1064 1065 1070 1071 1075 1078 1080 1085 1090 1092 1095 1099 1100 1105 1106 1110 1113 1115 1120 1125 1127 1130 1134 1135 1140 1141 1145 1148 1150 1155 1160 1162 1165 1169 1170 1175 1176 1180 1183 1185 1190 1195 1197 1200 1204 1205 1210 1211 1215 1218 1220 1225 1230 1232 1235 1239 1240 1245 1246 1250 1253 1255 1260 1265 1267 1270 1274 1275 1280 1281 1285 1288 1290 1295 1300 1302 1305 1309 1310 1315 1316 1320 1323 1325 1330 1335 1337 1340 1344 1345 1350 1351 1355 1358 1360 1365 1370 1372 1375 1379 1380 1385 1386 1390 1393 1395 1400 1405 1407 1410 1414 1415 1420 1421 1425 1428 1430 1435 1440 1442 1445 1449 1450 1455 1456 1460 1463 1465 1470 1475 1477 1480 1484 1485 1490 1491 1495 1498 1500 1505 1510 1512 1515 1519 1520 1525 1526 1530 1533 1535 1540 1545 1547 1550 1554 1555 1560 1561 1565 1568 1570 1575 1580 1582 1585 1589 1590 1595 1596 1600 1603 1605 1610 1615 1617 1620 1624 1625 1630 1631 1635 1638 1640 1645 1650 1652 1655 1659 1660 1665 1666 1670 1673 1675 1680 1685 1687 1690 1694 1695 1700 1701 1705 1708 1710 1715 1720 1722 1725 1729 1730 1735 1736 1740 1743 1745 1750 1755 1757 1760 1764 1765 1770 1771 1775 1778 1780 1785 1790 1792 1795 1799 1800 1805 1806 1810 1813 1815 1820 1825 1827 1830 1834 1835 1840 1841 1845 1848 1850 1855 1860 1862 1865 1869 1870 1875 1876 1880 1883 1885 1890 1895 1897 1900 1904 1905 1910 1911 1915 1918 1920 1925 1930 1932 1935 1939 1940 1945 1946 1950 1953 1955 1960 1965 1967 1970 1974 1975 1980 1981 1985 1988 1990 1995 2000 2002 2005 2009 2010 2015 2016 2020 2023 2025 2030 2035 2037 2040 2044 2045 2050 2051 2055 2058 2060 2065 2070 2072 2075 2079 2080 2085 2086 2090 2093 2095 2100 2105 2107 2110 2114 2115 2120 2121 2125 2128 2130 2135 2140 2142 2145 2149 2150 2155 2156 2160 2163 2165 2170 2175 2177 2180 2184 2185 2190 2191 2195 2198 2200 2205 2210 2212 2215 2219 2220 2225 2226 2230 2233 2235 2240 2245 2247 2250 2254 2255 2260 2261 2265 2268 2270 2275 2280 2282 2285 2289 2290 2295 2296 2300 2303 2305 2310 2315 2317 2320 2324 2325 2330 2331 2335 2338 2340 2345 2350 2352 2355 2359 2360 2365 2366 2370 2373 2375 2380 2385 2387 2390 2394 2395 2400 2401 2405 2408 2410 2415 2420 2422 2425 2429 2430 2435 2436 2440 2443 2445 2450 2455 2457 2460 2464 2465 2470 2471 2475 2478 2480 2485 2490 2492 2495 2499 2500 2505 2506 2510 2513 2515 2520 2525 2527 2530 2534 2535 2540 2541 2545 2548 2550 2555 2560 2562 2565 2569 2570 2575 2576 2580 2583 2585 2590 2595 2597 2600 2604 2605 2610 2611 2615 2618 2620 2625 2630 2632 2635 2639 2640 2645 2646 2650 2653 2655 2660 2665 2667 2670 2674 2675 2680 2681 2685 2688 2690 2695 2700 "
     ]
    }
   ],
   "source": [
    "\n",
    "for a in range(1500 and 2701):\n",
    "    if a%5==0 or a%7==0:\n",
    "        print(a,end=\" \")"
   ]
  },
  {
   "cell_type": "code",
   "execution_count": 6,
   "id": "babaf33c",
   "metadata": {},
   "outputs": [
    {
     "name": "stdout",
     "output_type": "stream",
     "text": [
      "Enter a temprature in ferenhiet: 45\n",
      "7\n"
     ]
    }
   ],
   "source": [
    "f=int(input(\"Enter a temprature in ferenhiet: \"))\n",
    "c=int(float(5*(f-32)/9))\n",
    "print(c)"
   ]
  },
  {
   "cell_type": "code",
   "execution_count": 23,
   "id": "06fd8c11",
   "metadata": {},
   "outputs": [
    {
     "name": "stdout",
     "output_type": "stream",
     "text": [
      "\n",
      "*\n",
      "**\n",
      "***\n",
      "****\n",
      "*****\n",
      "****\n",
      "***\n",
      "**\n",
      "*\n"
     ]
    }
   ],
   "source": [
    "n=5\n",
    "for i in  range(n):\n",
    "    for j in range(i):\n",
    "        print(\"*\",end=\"\")\n",
    "    print(\"\")    \n",
    "    \n",
    "for i in range(5,0,-1):\n",
    "    for j in range(i):\n",
    "        print(\"*\",end=\"\")\n",
    "    print(\"\")    \n"
   ]
  },
  {
   "cell_type": "code",
   "execution_count": 30,
   "id": "e0497434",
   "metadata": {},
   "outputs": [
    {
     "name": "stdout",
     "output_type": "stream",
     "text": [
      "4\n",
      "5\n"
     ]
    }
   ],
   "source": [
    "even=[]\n",
    "odd=[]\n",
    "n=[1,2,3,4,5,6,7,8,9]\n",
    "for a in n:\n",
    "    \n",
    "        if a%2==0:\n",
    "            \n",
    "            even.append(a)\n",
    "    \n",
    "            \n",
    "        else:\n",
    "            odd.append(a)\n",
    "            \n",
    "print(len(even))\n",
    "                \n",
    "print(len(odd))            "
   ]
  },
  {
   "cell_type": "code",
   "execution_count": 33,
   "id": "0b8a5b66",
   "metadata": {},
   "outputs": [
    {
     "name": "stdout",
     "output_type": "stream",
     "text": [
      "0 1 2 4 5 "
     ]
    }
   ],
   "source": [
    "for a in range(0,6):\n",
    "    if a==3:\n",
    "        continue\n",
    "    else:\n",
    "        print(a,end=\" \")"
   ]
  },
  {
   "cell_type": "code",
   "execution_count": 40,
   "id": "1faa0e1e",
   "metadata": {},
   "outputs": [
    {
     "name": "stdout",
     "output_type": "stream",
     "text": [
      "1\n",
      "2\n",
      "fizz\n",
      "4\n",
      "buzz\n",
      "fizz\n",
      "7\n",
      "8\n",
      "fizz\n",
      "buzz\n",
      "11\n",
      "fizz\n",
      "13\n",
      "14\n",
      "fizzbuzz\n",
      "16\n",
      "17\n",
      "fizz\n",
      "19\n",
      "buzz\n",
      "fizz\n",
      "22\n",
      "23\n",
      "fizz\n",
      "buzz\n",
      "26\n",
      "fizz\n",
      "28\n",
      "29\n",
      "fizzbuzz\n",
      "31\n",
      "32\n",
      "fizz\n",
      "34\n",
      "buzz\n",
      "fizz\n",
      "37\n",
      "38\n",
      "fizz\n",
      "buzz\n",
      "41\n",
      "fizz\n",
      "43\n",
      "44\n",
      "fizzbuzz\n",
      "46\n",
      "47\n",
      "fizz\n",
      "49\n"
     ]
    }
   ],
   "source": [
    "for a in range(1,50):\n",
    "    if a%3==0 and a%5==0:\n",
    "        print(\"fizzbuzz\")\n",
    "        continue\n",
    "    elif a%3==0:\n",
    "        print(\"fizz\")\n",
    "        continue\n",
    "    elif a%5==0:\n",
    "        print(\"buzz\")\n",
    "        continue\n",
    "   \n",
    "    print(a)        \n",
    "    "
   ]
  },
  {
   "cell_type": "code",
   "execution_count": 43,
   "id": "182ff984",
   "metadata": {},
   "outputs": [
    {
     "name": "stdout",
     "output_type": "stream",
     "text": [
      "enter number of rows3\n",
      "enter number of columns4\n",
      "[[0, 0, 0, 0], [0, 1, 2, 3], [0, 2, 4, 6]]\n"
     ]
    }
   ],
   "source": [
    "rows=int(input(\"enter number of rows\"))\n",
    "cols=int(input(\"enter numb"
   ]
  },
  {
   "cell_type": "code",
   "execution_count": 46,
   "id": "275660cf",
   "metadata": {},
   "outputs": [
    {
     "name": "stdout",
     "output_type": "stream",
     "text": [
      "Enter any string: Dildar1860\n",
      "Digits: 4\n",
      "Latters: 6\n"
     ]
    }
   ],
   "source": [
    "a=input(\"Enter any string: \")\n",
    "l=d=0\n",
    "for i in a:\n",
    "    if i.isdigit():\n",
    "        d=d+1\n",
    "    elif i.isalpha():\n",
    "        l=l+1\n",
    "    else:\n",
    "        pass\n",
    "    \n",
    "print(\"Digits:\",d)\n",
    "print(\"Latters:\",l)"
   ]
  },
  {
   "cell_type": "code",
   "execution_count": 24,
   "id": "96b0e5e1",
   "metadata": {},
   "outputs": [
    {
     "ename": "ValueError",
     "evalue": "9 is not in list",
     "output_type": "error",
     "traceback": [
      "\u001b[1;31m---------------------------------------------------------------------------\u001b[0m",
      "\u001b[1;31mValueError\u001b[0m                                Traceback (most recent call last)",
      "Input \u001b[1;32mIn [24]\u001b[0m, in \u001b[0;36m<cell line: 3>\u001b[1;34m()\u001b[0m\n\u001b[0;32m      2\u001b[0m b\u001b[38;5;241m=\u001b[39m[\u001b[38;5;241m2\u001b[39m,\u001b[38;5;241m4\u001b[39m,\u001b[38;5;241m6\u001b[39m,\u001b[38;5;241m8\u001b[39m]\n\u001b[0;32m      3\u001b[0m \u001b[38;5;28;01mfor\u001b[39;00m i \u001b[38;5;129;01min\u001b[39;00m a:\n\u001b[0;32m      4\u001b[0m     \n\u001b[0;32m      5\u001b[0m     \u001b[38;5;66;03m#for j in b:        \u001b[39;00m\n\u001b[1;32m----> 6\u001b[0m         j\u001b[38;5;241m=\u001b[39m  a\u001b[38;5;241m.\u001b[39mindex(i)\u001b[38;5;241m+\u001b[39m\u001b[43mb\u001b[49m\u001b[38;5;241;43m.\u001b[39;49m\u001b[43mindex\u001b[49m\u001b[43m(\u001b[49m\u001b[43mi\u001b[49m\u001b[43m)\u001b[49m\n\u001b[0;32m      7\u001b[0m         \u001b[38;5;28mprint\u001b[39m(\u001b[38;5;28mlist\u001b[39m(j))\n",
      "\u001b[1;31mValueError\u001b[0m: 9 is not in list"
     ]
    }
   ],
   "source": [
    "a=[9,2,3,4]\n",
    "b=[2,4,6,8]\n",
    "for i in a:\n",
    "    \n",
    "    #for j in b:        \n",
    "        j=  a.index(i)+b.index(i)\n",
    "        print(list(j))"
   ]
  },
  {
   "cell_type": "code",
   "execution_count": 26,
   "id": "42303d56",
   "metadata": {
    "scrolled": true
   },
   "outputs": [
    {
     "name": "stdout",
     "output_type": "stream",
     "text": [
      "Enter an string: asdfghjklzxcvbnmqwertyuiop1234567890\n",
      "Letter: 26\n",
      "Digit: 10\n"
     ]
    }
   ],
   "source": [
    "a=input(\"Enter an string: \")\n",
    "l=d=0\n",
    "for i in a:\n",
    "    if i.isalpha():\n",
    "        \n",
    "        l=l+1\n",
    "    elif i.isdigit():\n",
    "        d=d+1\n",
    "        \n",
    "print(\"Letter:\",l)        \n",
    "print(\"Digit:\",d)          \n",
    "    "
   ]
  },
  {
   "cell_type": "code",
   "execution_count": 44,
   "id": "04b3e261",
   "metadata": {
    "scrolled": true
   },
   "outputs": [
    {
     "name": "stdout",
     "output_type": "stream",
     "text": [
      "\n",
      "*\n",
      "**\n",
      "***\n",
      "****\n",
      "*****\n",
      "****\n",
      "***\n",
      "**\n",
      "*\n"
     ]
    }
   ],
   "source": [
    "n=5\n",
    "for i in range(n):\n",
    "    for j in range(i):\n",
    "        print(\"*\",end=\"\")\n",
    "    print(\"\")\n",
    " \n",
    "\n",
    " \n",
    "for i in range(n,0,-1):\n",
    "        for j in range(i):\n",
    "            print(\"*\",end=\"\")\n",
    "        print(\"\")\n"
   ]
  },
  {
   "cell_type": "code",
   "execution_count": 84,
   "id": "46de446c",
   "metadata": {
    "scrolled": true
   },
   "outputs": [
    {
     "name": "stdout",
     "output_type": "stream",
     "text": [
      "*1\n",
      "*3\n",
      "*5\n",
      "*7\n",
      "*9\n",
      "   *******\n",
      "    *****\n",
      "     ***\n",
      "      *\n"
     ]
    }
   ],
   "source": [
    "h =5\n",
    "for x in range(h):\n",
    "    if h - x:\n",
    "        print(\"*\",end=\"\")\n",
    "        print((2*x+1))    \n",
    "    #print(\" \" * (h - x), \"*\" * (2*x + 1))\n",
    "for x in range(h - 2, -1, -1):\n",
    "    print(\" \" * (h - x), \"*\" * (2*x + 1))"
   ]
  },
  {
   "cell_type": "code",
   "execution_count": 60,
   "id": "691d8ded",
   "metadata": {},
   "outputs": [
    {
     "name": "stdout",
     "output_type": "stream",
     "text": [
      "Ali  Khan  Asd  AB  "
     ]
    }
   ],
   "source": [
    "a=[\"Ali\",\"Baloch\",\"Khan\",\"Asd\",\"AB\"]\n",
    "for i in a:\n",
    "    if len(i)<=4:\n",
    "        print(i,\" \",end=\"\")"
   ]
  },
  {
   "cell_type": "code",
   "execution_count": 70,
   "id": "6572ba58",
   "metadata": {},
   "outputs": [
    {
     "name": "stdout",
     "output_type": "stream",
     "text": [
      "   * \n",
      "  * * \n",
      " * * * \n",
      "* * * * \n",
      " * * * \n",
      "  * * \n",
      "   * \n",
      "    \n"
     ]
    }
   ],
   "source": [
    "n = 4\n",
    "for i in range(n):\n",
    "    print(' '*(n-i-1) + '* '*(i+1) )\n",
    "for i in range(n):\n",
    "    print(' '*(i+1) + '* '*(n-i-1))\n"
   ]
  },
  {
   "cell_type": "code",
   "execution_count": 71,
   "id": "abf09585",
   "metadata": {},
   "outputs": [
    {
     "name": "stdout",
     "output_type": "stream",
     "text": [
      "0\n",
      "1\n",
      "2\n",
      "3\n",
      "4\n",
      " * * * * \n",
      "  * * * \n",
      "   * * \n",
      "    * \n",
      "     \n"
     ]
    }
   ],
   "source": [
    "n = 5\n",
    "for i in range(n):\n",
    "    print(i)\n",
    "   # print(' '*(n-i-1) + '* '*(i+2) )\n",
    "\n",
    "for i in range(n):\n",
    "    print(' '*(i+1) + '* '*(n-i-1))\n"
   ]
  },
  {
   "cell_type": "code",
   "execution_count": 94,
   "id": "a98af5f4",
   "metadata": {
    "scrolled": true
   },
   "outputs": [
    {
     "name": "stdout",
     "output_type": "stream",
     "text": [
      "Plz enter hieght of Diamond: 5\n",
      "     * \n",
      "    * * \n",
      "   * * * \n",
      "  * * * * \n",
      " * * * * * \n",
      "  * * * * \n",
      "   * * * \n",
      "    * * \n",
      "     * \n"
     ]
    }
   ],
   "source": [
    "n=int(input(\"Plz enter hieght of Diamond: \"))\n",
    "for i in range(n):\n",
    "    print(\" \"*(n-i)+\"* \"*(i+1))\n",
    "    \n",
    "for j in range(n-1):\n",
    "    print(\" \"*(j+2)+\"* \"*(n-1-j))    "
   ]
  },
  {
   "cell_type": "code",
   "execution_count": 95,
   "id": "81342639",
   "metadata": {},
   "outputs": [
    {
     "name": "stdout",
     "output_type": "stream",
     "text": [
      "Plz enter hieght of Triangle: 5\n",
      "     * \n",
      "    * * \n",
      "   * * * \n",
      "  * * * * \n",
      " * * * * * \n"
     ]
    }
   ],
   "source": [
    "n=int(input(\"Plz enter hieght of Triangle: \"))\n",
    "for i in range(n):\n",
    "    print(\" \"*(n-i)+\"* \"*(i+1))"
   ]
  },
  {
   "cell_type": "code",
   "execution_count": 100,
   "id": "338cf2d4",
   "metadata": {},
   "outputs": [
    {
     "name": "stdout",
     "output_type": "stream",
     "text": [
      "Plz enter hieght of Square: 5\n",
      "* * * * * \n",
      "* * * * * \n",
      "* * * * * \n",
      "* * * * * \n",
      "* * * * * \n"
     ]
    }
   ],
   "source": [
    "n=int(input(\"Plz enter hieght of Square: \"))\n",
    "for i in range(n):\n",
    "    print(\"* \"*(n))\n",
    "    \n"
   ]
  },
  {
   "cell_type": "code",
   "execution_count": 147,
   "id": "f3b16dce",
   "metadata": {},
   "outputs": [
    {
     "name": "stdout",
     "output_type": "stream",
     "text": [
      "Plz enter hieght of Diamond: 5\n",
      "      * * *\n",
      "     * * * *\n",
      "    * * * * *\n",
      "   * * * * * *\n",
      "  * * * * * * *\n",
      "  * * * * * * *\n",
      "   * * * * * *\n",
      "    * * * * *\n",
      "     * * * *\n"
     ]
    }
   ],
   "source": [
    "n=int(input(\"Plz enter hieght of Diamond: \"))\n",
    "for i in range(n):\n",
    "    print(\" \"*(n-i)+\" *\"*(i+3))\n",
    "    \n",
    "for j in range(n-j):\n",
    "    print(\" \"*(j+1)+\" *\"*(n-j+2))    "
   ]
  },
  {
   "cell_type": "code",
   "execution_count": 170,
   "id": "6f974854",
   "metadata": {},
   "outputs": [
    {
     "name": "stdout",
     "output_type": "stream",
     "text": [
      "Plz enter hieght of Diamond: 5\n",
      "      * *\n",
      "     * * *\n",
      "    * * * *\n",
      "   * * * * *\n",
      "  * * * * * *\n",
      "  * * * * * *\n",
      "   * * * * *\n",
      "    * * * *\n",
      "     * * *\n",
      "      * *\n"
     ]
    }
   ],
   "source": [
    "n=int(input(\"Plz enter hieght of Diamond: \"))\n",
    "for i in range(n):\n",
    "    print(\" \"*(n-i)+\" *\"*(i+2))\n",
    "    \n",
    "for j in range(n):\n",
    "    print(\" \"*(j+1)+\" *\"*(n-j+1))    "
   ]
  },
  {
   "cell_type": "code",
   "execution_count": 187,
   "id": "c50780a0",
   "metadata": {},
   "outputs": [
    {
     "name": "stdout",
     "output_type": "stream",
     "text": [
      "Y E L L O W Y A K S L I K E Y E L L I N G A N D Y A W N I N G A N D Y E S T U R D A Y T H E Y Y O D L E D W H I L E E A T I N G Y U K Y Y A M S "
     ]
    }
   ],
   "source": [
    "a= \"Yellow Yaks like yelling and yawning and yesturday they yodled while eating yuky yams\"\n",
    "for i in a.upper():\n",
    "    if i not in \"a,e,i,o,u,'' \":\n",
    "        print(i,end=' ')"
   ]
  },
  {
   "cell_type": "code",
   "execution_count": 196,
   "id": "6621e431",
   "metadata": {},
   "outputs": [
    {
     "name": "stdout",
     "output_type": "stream",
     "text": [
      "1903\n",
      "4546467\n",
      "455464\n"
     ]
    }
   ],
   "source": [
    "a=\"1903  dgsjfsjf 4546467  455464 njhhgg  \"\n",
    "b=a.split()\n",
    "for i in b:\n",
    "    if not  i.isalpha():\n",
    "                  print(i)"
   ]
  },
  {
   "cell_type": "code",
   "execution_count": 199,
   "id": "89c8e96d",
   "metadata": {},
   "outputs": [
    {
     "name": "stdout",
     "output_type": "stream",
     "text": [
      "[(2, 2), (4, 4), (6, 6), (8, 8), (9, 9)]\n"
     ]
    }
   ],
   "source": [
    "a=[2,1,3,4,5,6,7,8,9]\n",
    "b=[2,4,6,8,9]\n",
    "result=[(i,j) for i in a for j in b if i==j]\n",
    "print(result)"
   ]
  },
  {
   "cell_type": "code",
   "execution_count": 200,
   "id": "76e5f55a",
   "metadata": {},
   "outputs": [
    {
     "name": "stdout",
     "output_type": "stream",
     "text": [
      "Odd\n",
      "Even\n",
      "Odd\n",
      "Even\n",
      "Odd\n",
      "Even\n",
      "Odd\n",
      "Even\n",
      "Odd\n",
      "Even\n",
      "Odd\n",
      "Even\n",
      "Odd\n",
      "Even\n",
      "Odd\n",
      "Even\n",
      "Odd\n",
      "Even\n",
      "Odd\n",
      "Even\n"
     ]
    }
   ],
   "source": [
    "a=range(1,21)\n",
    "for i in a:\n",
    "    if i%2==0:\n",
    "        print(\"Even\")\n",
    "    else:\n",
    "        print(\"Odd\")"
   ]
  },
  {
   "cell_type": "code",
   "execution_count": 214,
   "id": "c74dd8ce",
   "metadata": {},
   "outputs": [
    {
     "name": "stdout",
     "output_type": "stream",
     "text": [
      "['Odd', 'even', 'Odd', 'even', 'Odd', 'even', 'Odd', 'even', 'Odd', 'even', 'Odd', 'even', 'Odd', 'even', 'Odd', 'even', 'Odd', 'even', 'Odd', 'even']\n"
     ]
    }
   ],
   "source": [
    "a=range(1,21)\n",
    "b=[\"even\"  if i%2==0   else \"Odd\" for i in a]# for i in a if i%2!=0 ]  # else:     #   print(\"Odd\")]\n",
    "print(b)"
   ]
  },
  {
   "cell_type": "code",
   "execution_count": 216,
   "id": "46d12690",
   "metadata": {},
   "outputs": [
    {
     "name": "stdout",
     "output_type": "stream",
     "text": [
      "1000\n"
     ]
    }
   ],
   "source": [
    "a=range(1,1001)\n",
    "b=len(a)\n",
    "print(b)"
   ]
  },
  {
   "cell_type": "code",
   "execution_count": 218,
   "id": "022f989f",
   "metadata": {},
   "outputs": [
    {
     "name": "stdout",
     "output_type": "stream",
     "text": [
      "[1, 2, 3]\n",
      "[2, 3, 4]\n",
      "[3, 4, 5]\n"
     ]
    }
   ],
   "source": [
    "a=[[1,2,3],[2,3,4],[3,4,5]]\n",
    "for i in a:\n",
    "    print(i)"
   ]
  },
  {
   "cell_type": "code",
   "execution_count": 221,
   "id": "2782e24a",
   "metadata": {},
   "outputs": [
    {
     "name": "stdout",
     "output_type": "stream",
     "text": [
      "1 2 3 4 5 6 7 8 9 "
     ]
    }
   ],
   "source": [
    "a=[[1,2,3],[4,5,6],[7,8,9]]\n",
    "for i in a:\n",
    "    for j in i:\n",
    "        \n",
    "        print(j,end=\" \")"
   ]
  },
  {
   "cell_type": "code",
   "execution_count": 232,
   "id": "e2debd25",
   "metadata": {},
   "outputs": [
    {
     "name": "stdout",
     "output_type": "stream",
     "text": [
      "\n",
      "1 \n",
      "2 2 \n",
      "3 3 3 \n",
      "4 4 4 4 \n"
     ]
    }
   ],
   "source": [
    "n=5\n",
    "for i in range(n):\n",
    "    for j in range(i):\n",
    "        print(i,end=' ')\n",
    "    print()"
   ]
  },
  {
   "cell_type": "code",
   "execution_count": 237,
   "id": "e88cde10",
   "metadata": {},
   "outputs": [
    {
     "name": "stdout",
     "output_type": "stream",
     "text": [
      "P y t h n l g c f r k d s "
     ]
    }
   ],
   "source": [
    "a=\"Python logic for kids\"\n",
    "for i in a:\n",
    "    if i in \"a,e,i,o,u,'' \":\n",
    "        continue\n",
    "    print(i,end=' ')    "
   ]
  },
  {
   "cell_type": "code",
   "execution_count": 243,
   "id": "8258ed91",
   "metadata": {},
   "outputs": [
    {
     "name": "stdout",
     "output_type": "stream",
     "text": [
      " \n",
      "*  \n",
      "* *  \n",
      "* * *  \n",
      "* * * *  \n",
      "* * * * *  \n",
      "* * * *  \n",
      "* * *  \n",
      "* *  \n",
      "*  \n"
     ]
    }
   ],
   "source": [
    "n=5\n",
    "for i in range(n):\n",
    "    for j in range(i):\n",
    "        print(\"*\",end=\" \")\n",
    "    print(' ') \n",
    "    \n",
    "for i in range(n,0,-1):\n",
    "    for j in range(i):\n",
    "        print(\"*\",end=\" \")\n",
    "    print(' ')        "
   ]
  },
  {
   "cell_type": "code",
   "execution_count": 247,
   "id": "f75cfda6",
   "metadata": {},
   "outputs": [
    {
     "name": "stdout",
     "output_type": "stream",
     "text": [
      "     * \n",
      "    * * \n",
      "   * * * \n",
      "  * * * * \n",
      " * * * * * \n",
      "  * * * * \n",
      "   * * * \n",
      "    * * \n",
      "     * \n"
     ]
    }
   ],
   "source": [
    "n=5\n",
    "for i in range(n):\n",
    "    print(\" \"*(n-i)+\"* \"*(i+1))\n",
    "    \n",
    "for j in range(n-1):\n",
    "    print(\" \"*(j+2)+\"* \"*(n-j-1))    "
   ]
  },
  {
   "cell_type": "code",
   "execution_count": 248,
   "id": "4b126e67",
   "metadata": {},
   "outputs": [
    {
     "name": "stdout",
     "output_type": "stream",
     "text": [
      "     * \n",
      "    * * \n",
      "   * * * \n",
      "  * * * * \n",
      " * * * * * \n"
     ]
    }
   ],
   "source": [
    "n=5\n",
    "for i in range(n):\n",
    "    print(\" \"*(n-i)+\"* \"*(i+1))"
   ]
  },
  {
   "cell_type": "code",
   "execution_count": 249,
   "id": "41a2e705",
   "metadata": {},
   "outputs": [
    {
     "name": "stdout",
     "output_type": "stream",
     "text": [
      "* * * * * \n",
      "* * * * * \n",
      "* * * * * \n",
      "* * * * * \n",
      "* * * * * \n"
     ]
    }
   ],
   "source": [
    "n=5\n",
    "for i in range(n):\n",
    "    print(\"* \"*(n))"
   ]
  },
  {
   "cell_type": "code",
   "execution_count": 251,
   "id": "d332a164",
   "metadata": {},
   "outputs": [
    {
     "name": "stdout",
     "output_type": "stream",
     "text": [
      "\n",
      "*\n",
      "**\n",
      "***\n",
      "****\n"
     ]
    }
   ],
   "source": [
    "n=5\n",
    "for i in range(n):\n",
    "    for j in range(i):\n",
    "        print(\"*\",end='')\n",
    "    print()"
   ]
  },
  {
   "cell_type": "code",
   "execution_count": 253,
   "id": "9c19dc49",
   "metadata": {},
   "outputs": [
    {
     "name": "stdout",
     "output_type": "stream",
     "text": [
      "\n",
      "*\n",
      "****\n",
      "*********\n",
      "****************\n"
     ]
    }
   ],
   "source": [
    "n=5\n",
    "for i in range(n):\n",
    "    for j in range(i):\n",
    "        print(\"*\"*(i),end='')\n",
    "    print()"
   ]
  },
  {
   "cell_type": "code",
   "execution_count": 257,
   "id": "2468c12b",
   "metadata": {},
   "outputs": [
    {
     "name": "stdout",
     "output_type": "stream",
     "text": [
      "DILDAR DILDAR \n",
      "DILDAR DILDAR \n",
      "DILDAR DILDAR \n"
     ]
    }
   ],
   "source": [
    "a=\"DILDAR\"\n",
    "for i in range(3):   #Rows\n",
    "    for i in range(2):  #Columns\n",
    "        print(a,end=\" \")\n",
    "    print(\"\")    "
   ]
  },
  {
   "cell_type": "code",
   "execution_count": 4,
   "id": "aeeba45e",
   "metadata": {},
   "outputs": [
    {
     "data": {
      "text/plain": [
       "{'Names': ['Dildar', 'Ali', 'Asad'], 'Scores': [90, 80, 70]}"
      ]
     },
     "execution_count": 4,
     "metadata": {},
     "output_type": "execute_result"
    }
   ],
   "source": [
    "dict={\n",
    "    \"Names\":[\"Dildar\",\"Ali\",\"Asad\"],\n",
    "    \"Scores\":[90,80,70]\n",
    "}\n",
    "dict"
   ]
  },
  {
   "cell_type": "code",
   "execution_count": 8,
   "id": "3dbc9301",
   "metadata": {},
   "outputs": [
    {
     "data": {
      "text/plain": [
       "('Dildar', 90)"
      ]
     },
     "execution_count": 8,
     "metadata": {},
     "output_type": "execute_result"
    }
   ],
   "source": [
    "dict[\"Names\"][0],dict[\"Scores\"][0]"
   ]
  },
  {
   "cell_type": "code",
   "execution_count": 9,
   "id": "146de884",
   "metadata": {},
   "outputs": [],
   "source": [
    "lst=[\n",
    "    {\n",
    "        \"Names\":[\"Dildar\",\"Ali\",\"Asad\"],\n",
    "        \"Scores\":[90,80,70]\n",
    "    }\n",
    "]"
   ]
  },
  {
   "cell_type": "code",
   "execution_count": 11,
   "id": "1781bf00",
   "metadata": {},
   "outputs": [
    {
     "data": {
      "text/plain": [
       "'Ali'"
      ]
     },
     "execution_count": 11,
     "metadata": {},
     "output_type": "execute_result"
    }
   ],
   "source": [
    "lst[0][\"Names\"][1],"
   ]
  },
  {
   "cell_type": "code",
   "execution_count": 17,
   "id": "385a602c",
   "metadata": {},
   "outputs": [
    {
     "name": "stdout",
     "output_type": "stream",
     "text": [
      "{1: 10, 2: 20, 3: 30, 4: 40, 5: 50, 6: 60}\n"
     ]
    }
   ],
   "source": [
    "dict1={1:10,2:20}\n",
    "dict2={3:30,4:40}\n",
    "dict3={5:50,6:60}\n",
    "dict4={}\n",
    "for d in dict1,dict2,dict3:\n",
    "    dict4.update(d)\n",
    "\n",
    "#dict4=dict{dict1,dict2,dict3}\n",
    "print(dict4)"
   ]
  },
  {
   "cell_type": "code",
   "execution_count": 18,
   "id": "31eab6bc",
   "metadata": {},
   "outputs": [
    {
     "data": {
      "text/plain": [
       "{0: 10, 1: 20}"
      ]
     },
     "execution_count": 18,
     "metadata": {},
     "output_type": "execute_result"
    }
   ],
   "source": [
    "a= {0: 10, 1: 20}\n",
    "a    "
   ]
  },
  {
   "cell_type": "code",
   "execution_count": 19,
   "id": "67ed881c",
   "metadata": {},
   "outputs": [
    {
     "data": {
      "text/plain": [
       "{0: 10, 1: 20, 2: 30}"
      ]
     },
     "execution_count": 19,
     "metadata": {},
     "output_type": "execute_result"
    }
   ],
   "source": [
    "a[2]=30\n",
    "a"
   ]
  },
  {
   "cell_type": "code",
   "execution_count": 22,
   "id": "158e3ab0",
   "metadata": {},
   "outputs": [
    {
     "name": "stdout",
     "output_type": "stream",
     "text": [
      "x -> 10\n",
      "y -> 20\n",
      "z -> 30\n"
     ]
    }
   ],
   "source": [
    "d = {'x': 10, 'y': 20, 'z': 30} \n",
    "for key,value in d.items():\n",
    "    print(key,\"->\",value)"
   ]
  },
  {
   "cell_type": "code",
   "execution_count": 25,
   "id": "e7b0e0c0",
   "metadata": {},
   "outputs": [
    {
     "name": "stdout",
     "output_type": "stream",
     "text": [
      "Plz enter any number: 8\n",
      "{1: 1, 2: 4, 3: 9, 4: 16, 5: 25, 6: 36, 7: 49, 8: 64}\n"
     ]
    }
   ],
   "source": [
    "n=int(input(\"Plz enter any number: \"))\n",
    "d={ }\n",
    "for i in range(1,n+1):\n",
    "    d[i]=i*i\n",
    "print(d)    \n",
    "    "
   ]
  },
  {
   "cell_type": "code",
   "execution_count": null,
   "id": "0ca92614",
   "metadata": {},
   "outputs": [],
   "source": []
  }
 ],
 "metadata": {
  "kernelspec": {
   "display_name": "Python 3 (ipykernel)",
   "language": "python",
   "name": "python3"
  },
  "language_info": {
   "codemirror_mode": {
    "name": "ipython",
    "version": 3
   },
   "file_extension": ".py",
   "mimetype": "text/x-python",
   "name": "python",
   "nbconvert_exporter": "python",
   "pygments_lexer": "ipython3",
   "version": "3.9.12"
  }
 },
 "nbformat": 4,
 "nbformat_minor": 5
}
