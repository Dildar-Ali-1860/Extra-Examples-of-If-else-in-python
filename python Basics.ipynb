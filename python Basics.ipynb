{
 "cells": [
  {
   "cell_type": "code",
   "execution_count": 1,
   "id": "ebc6f928",
   "metadata": {},
   "outputs": [
    {
     "name": "stdout",
     "output_type": "stream",
     "text": [
      "HELLO PYTHON\n"
     ]
    }
   ],
   "source": [
    "print(\"HELLO PYTHON\")"
   ]
  },
  {
   "cell_type": "code",
   "execution_count": 2,
   "id": "9a15083f",
   "metadata": {},
   "outputs": [
    {
     "name": "stdout",
     "output_type": "stream",
     "text": [
      "My name is DildarAnd i'm AI student. \n"
     ]
    }
   ],
   "source": [
    "\n",
    "message=\"My name is Dildar\"\n",
    "a=\"And i'm AI student. \"\n",
    "print(message+a)"
   ]
  },
  {
   "cell_type": "code",
   "execution_count": 4,
   "id": "f810b9cb",
   "metadata": {},
   "outputs": [
    {
     "data": {
      "text/plain": [
       "['Honda', 'suzuki', 'tata']"
      ]
     },
     "execution_count": 4,
     "metadata": {},
     "output_type": "execute_result"
    }
   ],
   "source": [
    "bicycle=[\"Honda\",\"suzuki\",\"tata\"]\n",
    "bicycle"
   ]
  },
  {
   "cell_type": "code",
   "execution_count": 5,
   "id": "03caacaf",
   "metadata": {},
   "outputs": [
    {
     "name": "stdout",
     "output_type": "stream",
     "text": [
      "My first bicyle was  Honda\n"
     ]
    }
   ],
   "source": [
    "\n",
    "bicycle=[\"Honda\",\"Suzuki\",125]\n",
    "print(\"My first bicyle was \",bicycle[0])"
   ]
  },
  {
   "cell_type": "code",
   "execution_count": null,
   "id": "2361a218",
   "metadata": {},
   "outputs": [],
   "source": []
  }
 ],
 "metadata": {
  "kernelspec": {
   "display_name": "Python 3 (ipykernel)",
   "language": "python",
   "name": "python3"
  },
  "language_info": {
   "codemirror_mode": {
    "name": "ipython",
    "version": 3
   },
   "file_extension": ".py",
   "mimetype": "text/x-python",
   "name": "python",
   "nbconvert_exporter": "python",
   "pygments_lexer": "ipython3",
   "version": "3.9.12"
  }
 },
 "nbformat": 4,
 "nbformat_minor": 5
}
