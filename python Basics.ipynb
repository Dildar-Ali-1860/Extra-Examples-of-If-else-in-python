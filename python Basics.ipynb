{
 "cells": [
  {
   "cell_type": "code",
   "execution_count": 1,
   "id": "f348cf0f",
   "metadata": {},
   "outputs": [
    {
     "name": "stdout",
     "output_type": "stream",
     "text": [
      "HELLO PYTHON\n"
     ]
    }
   ],
   "source": [
    "print(\"HELLO PYTHON\")"
   ]
  },
  {
   "cell_type": "code",
   "execution_count": 2,
   "id": "feb1bd8f",
   "metadata": {},
   "outputs": [
    {
     "name": "stdout",
     "output_type": "stream",
     "text": [
      "My name is DildarAnd i'm AI student. \n"
     ]
    }
   ],
   "source": [
    "\n",
    "message=\"My name is Dildar\"\n",
    "a=\"And i'm AI student. \"\n",
    "print(message+a)"
   ]
  },
  {
   "cell_type": "code",
   "execution_count": 4,
   "id": "e6001266",
   "metadata": {},
   "outputs": [
    {
     "data": {
      "text/plain": [
       "['Honda', 'suzuki', 'tata']"
      ]
     },
     "execution_count": 4,
     "metadata": {},
     "output_type": "execute_result"
    }
   ],
   "source": [
    "bicycle=[\"Honda\",\"suzuki\",\"tata\"]\n",
    "bicycle"
   ]
  },
  {
   "cell_type": "code",
   "execution_count": 5,
   "id": "0c414332",
   "metadata": {},
   "outputs": [
    {
     "name": "stdout",
     "output_type": "stream",
     "text": [
      "My first bicyle was  Honda\n"
     ]
    }
   ],
   "source": [
    "\n",
    "bicycle=[\"Honda\",\"Suzuki\",125]\n",
    "print(\"My first bicyle was \",bicycle[0])"
   ]
  },
  {
   "cell_type": "code",
   "execution_count": 6,
   "id": "e056a1c3",
   "metadata": {},
   "outputs": [
    {
     "name": "stdout",
     "output_type": "stream",
     "text": [
      "My second bicyle was  Suzuki\n"
     ]
    }
   ],
   "source": [
    "bicycle=[\"Honda\",\"Suzuki\",125]\n",
    "print(\"My second bicyle was \",bicycle[1])"
   ]
  },
  {
   "cell_type": "code",
   "execution_count": 7,
   "id": "f163adab",
   "metadata": {},
   "outputs": [
    {
     "name": "stdout",
     "output_type": "stream",
     "text": [
      "My third bicyle was  125\n"
     ]
    }
   ],
   "source": [
    "bicycle=[\"Honda\",\"Suzuki\",125]\n",
    "print(\"My third bicyle was \",bicycle[2])"
   ]
  },
  {
   "cell_type": "code",
   "execution_count": null,
   "id": "ca60d967",
   "metadata": {},
   "outputs": [],
   "source": []
  }
 ],
 "metadata": {
  "kernelspec": {
   "display_name": "Python 3 (ipykernel)",
   "language": "python",
   "name": "python3"
  },
  "language_info": {
   "codemirror_mode": {
    "name": "ipython",
    "version": 3
   },
   "file_extension": ".py",
   "mimetype": "text/x-python",
   "name": "python",
   "nbconvert_exporter": "python",
   "pygments_lexer": "ipython3",
   "version": "3.9.12"
  }
 },
 "nbformat": 4,
 "nbformat_minor": 5
}
