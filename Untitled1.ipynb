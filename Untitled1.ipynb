{
 "cells": [
  {
   "cell_type": "code",
   "execution_count": 1,
   "id": "04dd328f",
   "metadata": {},
   "outputs": [
    {
     "name": "stdout",
     "output_type": "stream",
     "text": [
      "Dildar\n",
      "Dildar\n",
      "Dildar\n",
      "Dildar\n",
      "Dildar\n",
      "Dildar\n",
      "Dildar\n",
      "Dildar\n",
      "Dildar\n"
     ]
    }
   ],
   "source": [
    "for i in range(1,10):\n",
    "    print(\"Dildar\")"
   ]
  },
  {
   "cell_type": "code",
   "execution_count": 2,
   "id": "3b53c410",
   "metadata": {},
   "outputs": [
    {
     "name": "stdout",
     "output_type": "stream",
     "text": [
      "Dildar Dildar Dildar Dildar Dildar Dildar Dildar Dildar Dildar "
     ]
    }
   ],
   "source": [
    "for i in range(1,10):\n",
    "    print(\"Dildar\",end=\" \")"
   ]
  },
  {
   "cell_type": "code",
   "execution_count": 5,
   "id": "83015f3b",
   "metadata": {},
   "outputs": [
    {
     "name": "stdout",
     "output_type": "stream",
     "text": [
      "[2, 4, 6, 8, 12, 14, 16, 18, 22, 24, 26, 28, 32, 34, 36, 38, 42, 44, 46, 48]\n",
      "[1, 3, 7, 9, 11, 13, 17, 19, 21, 23, 27, 29, 31, 33, 37, 39, 41, 43, 47, 49]\n"
     ]
    }
   ],
   "source": [
    "even=[]\n",
    "odd=[]\n",
    "for a in range(1,50):\n",
    "    if  a%5!=0:\n",
    "        if a%2==0: \n",
    "        \n",
    "            even.append(a)\n",
    "        \n",
    "        else:\n",
    "                  odd.append(a)\n",
    "        \n",
    "print(even)\n",
    "print(odd)\n",
    "    "
   ]
  },
  {
   "cell_type": "code",
   "execution_count": 6,
   "id": "f4fcd2db",
   "metadata": {},
   "outputs": [
    {
     "name": "stdout",
     "output_type": "stream",
     "text": [
      "Enter temprature in celcius: 0\n",
      "32.0\n"
     ]
    }
   ],
   "source": [
    "c=int(input(\"Enter temprature in celcius: \"))\n",
    "f= (c * 9/5) + 32 \n",
    "print(f)\n"
   ]
  },
  {
   "cell_type": "code",
   "execution_count": 7,
   "id": "5d9a80f6",
   "metadata": {},
   "outputs": [
    {
     "name": "stdout",
     "output_type": "stream",
     "text": [
      "Enter guest name: Dildar\n",
      "Enter guest name: Ali\n",
      "Enter guest name: Umair\n",
      "Enter guest name: asif\n",
      "['Dildar', 'Umair', 'asif']\n"
     ]
    }
   ],
   "source": [
    "name=[]\n",
    "for a in range(1,5):\n",
    "    \n",
    "    a=input(\"Enter guest name: \")\n",
    "    if a==\"Ali\":\n",
    "         continue\n",
    "    else:\n",
    "        name.append(a)\n",
    "        \n",
    "print(name)        \n",
    "        "
   ]
  },
  {
   "cell_type": "code",
   "execution_count": 8,
   "id": "1db1d4c7",
   "metadata": {},
   "outputs": [
    {
     "name": "stdout",
     "output_type": "stream",
     "text": [
      "Enter guest name: Ali\n",
      "Enter guest name: Dildaaaaar\n",
      "Enter guest name: Ali\n",
      "Enter guest name: amir\n",
      "['Dildaaaaar', 'amir']\n"
     ]
    }
   ],
   "source": [
    "name=[]\n",
    "for a in range(1,5):\n",
    "    \n",
    "    a=input(\"Enter guest name: \")\n",
    "    if a==\"Ali\" or a in name==True:\n",
    "         continue\n",
    "    else:\n",
    "        name.append(a)\n",
    "        \n",
    "print(name)        \n",
    "        "
   ]
  },
  {
   "cell_type": "code",
   "execution_count": 9,
   "id": "ce0cd2f0",
   "metadata": {},
   "outputs": [
    {
     "name": "stdout",
     "output_type": "stream",
     "text": [
      "Enter guest name: \n",
      "Enter guest name: Ali\n",
      "Enter guest name: Dildar\n",
      "Enter guest name: Ali\n",
      "['Dildar']\n"
     ]
    }
   ],
   "source": [
    "name=[]\n",
    "for a in range(1,5):\n",
    "    \n",
    "    a=input(\"Enter guest name: \")\n",
    "    if a==\"Ali\" or a in name==True or (len(a)==0):\n",
    "         continue\n",
    "    else:\n",
    "        name.append(a)\n",
    "        \n",
    "print(name)        "
   ]
  },
  {
   "cell_type": "code",
   "execution_count": 12,
   "id": "801f4468",
   "metadata": {},
   "outputs": [
    {
     "name": "stdout",
     "output_type": "stream",
     "text": [
      "Welcome Aamir\n",
      "Welcome Bilal\n",
      "Welcome Dildar\n"
     ]
    }
   ],
   "source": [
    "a=[\"Aamir\",\"Bilal\",\"Dildar\"]\n",
    "for name in a:\n",
    "    print(f\"Welcome {name}\")"
   ]
  },
  {
   "cell_type": "code",
   "execution_count": 13,
   "id": "27fc04b2",
   "metadata": {},
   "outputs": [
    {
     "name": "stdout",
     "output_type": "stream",
     "text": [
      "Welcome  Aamir\n",
      "Welcome  Bilal\n",
      "Welcome  Dildar\n"
     ]
    }
   ],
   "source": [
    "a=[\"Aamir\",\"Bilal\",\"Dildar\"]\n",
    "for name in a:\n",
    "    print(\"Welcome \",name.title())"
   ]
  },
  {
   "cell_type": "code",
   "execution_count": 20,
   "id": "a1226572",
   "metadata": {},
   "outputs": [
    {
     "name": "stdout",
     "output_type": "stream",
     "text": [
      "100\n"
     ]
    }
   ],
   "source": [
    "number=[1,3,5,7,9,11,13,15,17,19]\n",
    "sum=0\n",
    "for a in number:\n",
    "    sum=a+sum\n",
    "\n",
    "print(sum)"
   ]
  },
  {
   "cell_type": "code",
   "execution_count": 16,
   "id": "8d897d1a",
   "metadata": {},
   "outputs": [
    {
     "name": "stdout",
     "output_type": "stream",
     "text": [
      "The sum is 48\n"
     ]
    }
   ],
   "source": [
    "# Program to find the sum of all numbers stored in a list\n",
    "\n",
    "# List of numbers\n",
    "numbers = [6, 5, 3, 8, 4, 2, 5, 4, 11]\n",
    "\n",
    "# variable to store the sum\n",
    "sum = 0\n",
    "\n",
    "# iterate over the list\n",
    "for val in numbers:\n",
    "    sum = sum+val\n",
    "\n",
    "print(\"The sum is\", sum)\n"
   ]
  },
  {
   "cell_type": "code",
   "execution_count": 22,
   "id": "5b64bfdd",
   "metadata": {},
   "outputs": [
    {
     "name": "stdout",
     "output_type": "stream",
     "text": [
      "55\n"
     ]
    }
   ],
   "source": [
    "# program to display student's marks from record\n",
    "student_name = 'Jules'\n",
    "\n",
    "marks = {'James': 90, 'Jules': 55, 'Arthur': 77}\n",
    "\n",
    "for student in marks:\n",
    "    if student == student_name:\n",
    "        print(marks[student])\n",
    "        break\n",
    "else:\n",
    "    print('No entry with that name found.')"
   ]
  },
  {
   "cell_type": "code",
   "execution_count": 35,
   "id": "eb5d47e4",
   "metadata": {},
   "outputs": [
    {
     "name": "stdout",
     "output_type": "stream",
     "text": [
      " Enter your name: aad\n",
      "NAME NOT FOUND!\n"
     ]
    }
   ],
   "source": [
    "name=input(\" Enter your name: \")\n",
    "marks={\"Dildar\":90 , \"Aamir\":89, \"Bilal\":87}\n",
    "for a in marks:\n",
    "    if a==name:\n",
    "        print(marks[a])\n",
    "        break\n",
    "        \n",
    "else:\n",
    "        print(\"NAME NOT FOUND!\")"
   ]
  },
  {
   "cell_type": "code",
   "execution_count": 38,
   "id": "f964bc01",
   "metadata": {},
   "outputs": [
    {
     "name": "stdout",
     "output_type": "stream",
     "text": [
      "[1, 4, 7, 10, 13, 16, 19]\n"
     ]
    }
   ],
   "source": [
    "print(list(range(1,20,3)))"
   ]
  },
  {
   "cell_type": "code",
   "execution_count": 39,
   "id": "0cad6ca9",
   "metadata": {},
   "outputs": [
    {
     "data": {
      "text/plain": [
       "[1, 1, 1, 1, 1, 1, 1]"
      ]
     },
     "execution_count": 39,
     "metadata": {},
     "output_type": "execute_result"
    }
   ],
   "source": [
    "listt=[1,1,1,1,1,1,1]\n",
    "listt"
   ]
  },
  {
   "cell_type": "code",
   "execution_count": 40,
   "id": "4d095190",
   "metadata": {},
   "outputs": [
    {
     "data": {
      "text/plain": [
       "1"
      ]
     },
     "execution_count": 40,
     "metadata": {},
     "output_type": "execute_result"
    }
   ],
   "source": [
    "max(listt)"
   ]
  },
  {
   "cell_type": "code",
   "execution_count": 41,
   "id": "2fa5313d",
   "metadata": {},
   "outputs": [
    {
     "data": {
      "text/plain": [
       "1"
      ]
     },
     "execution_count": 41,
     "metadata": {},
     "output_type": "execute_result"
    }
   ],
   "source": [
    "min(listt)"
   ]
  },
  {
   "cell_type": "code",
   "execution_count": 45,
   "id": "2a5390a1",
   "metadata": {},
   "outputs": [
    {
     "ename": "TypeError",
     "evalue": "'int' object is not callable",
     "output_type": "error",
     "traceback": [
      "\u001b[1;31m---------------------------------------------------------------------------\u001b[0m",
      "\u001b[1;31mTypeError\u001b[0m                                 Traceback (most recent call last)",
      "Input \u001b[1;32mIn [45]\u001b[0m, in \u001b[0;36m<cell line: 1>\u001b[1;34m()\u001b[0m\n\u001b[1;32m----> 1\u001b[0m \u001b[38;5;28;43msum\u001b[39;49m\u001b[43m(\u001b[49m\u001b[43mlistt\u001b[49m\u001b[43m)\u001b[49m\n",
      "\u001b[1;31mTypeError\u001b[0m: 'int' object is not callable"
     ]
    }
   ],
   "source": [
    "sum(listt)"
   ]
  },
  {
   "cell_type": "code",
   "execution_count": 52,
   "id": "4af5fe31",
   "metadata": {},
   "outputs": [
    {
     "name": "stdout",
     "output_type": "stream",
     "text": [
      "1 2 3 4 "
     ]
    }
   ],
   "source": [
    "for a in range(1,5):\n",
    "    print(a,end=(' '))"
   ]
  },
  {
   "cell_type": "code",
   "execution_count": 48,
   "id": "6179e8ca",
   "metadata": {},
   "outputs": [
    {
     "data": {
      "text/plain": [
       "1"
      ]
     },
     "execution_count": 48,
     "metadata": {},
     "output_type": "execute_result"
    }
   ],
   "source": [
    "19101%10"
   ]
  },
  {
   "cell_type": "code",
   "execution_count": null,
   "id": "accf8065",
   "metadata": {},
   "outputs": [],
   "source": []
  },
  {
   "cell_type": "code",
   "execution_count": 49,
   "id": "a371396d",
   "metadata": {},
   "outputs": [
    {
     "data": {
      "text/plain": [
       "6"
      ]
     },
     "execution_count": 49,
     "metadata": {},
     "output_type": "execute_result"
    }
   ],
   "source": [
    "786%10"
   ]
  },
  {
   "cell_type": "code",
   "execution_count": 1,
   "id": "df9a3f1a",
   "metadata": {},
   "outputs": [
    {
     "name": "stdout",
     "output_type": "stream",
     "text": [
      "[1, 2, 3, 4, 5, 6, 7, 8, 9, 10]\n"
     ]
    }
   ],
   "source": [
    "a=list(range(1,11))\n",
    "print(a)"
   ]
  },
  {
   "cell_type": "code",
   "execution_count": 2,
   "id": "689df361",
   "metadata": {},
   "outputs": [
    {
     "name": "stdout",
     "output_type": "stream",
     "text": [
      "[3, 6, 9, 12, 15, 18, 21, 24, 27, 30]\n"
     ]
    }
   ],
   "source": [
    "a=[value*3 for value in range(1,11)]\n",
    "print(a)"
   ]
  },
  {
   "cell_type": "code",
   "execution_count": 3,
   "id": "3ec49402",
   "metadata": {},
   "outputs": [
    {
     "name": "stdout",
     "output_type": "stream",
     "text": [
      "[1, 8, 27, 64, 125, 216, 343, 512, 729, 1000]\n"
     ]
    }
   ],
   "source": [
    "a=[value**3 for value in range(1,11)]\n",
    "print(a)"
   ]
  },
  {
   "cell_type": "code",
   "execution_count": 11,
   "id": "81e40b5e",
   "metadata": {},
   "outputs": [
    {
     "name": "stdout",
     "output_type": "stream",
     "text": [
      "[1, 3, 7, 9]\n"
     ]
    }
   ],
   "source": [
    "num = [i for i in range(10) if i%2!=0 if i!=5]\n",
    "print(num)\n"
   ]
  },
  {
   "cell_type": "code",
   "execution_count": 13,
   "id": "37b94d28",
   "metadata": {},
   "outputs": [
    {
     "ename": "SyntaxError",
     "evalue": "invalid syntax (3239717738.py, line 1)",
     "output_type": "error",
     "traceback": [
      "\u001b[1;36m  Input \u001b[1;32mIn [13]\u001b[1;36m\u001b[0m\n\u001b[1;33m    num = [i for i in range(10) if i==8  continue]\u001b[0m\n\u001b[1;37m                                         ^\u001b[0m\n\u001b[1;31mSyntaxError\u001b[0m\u001b[1;31m:\u001b[0m invalid syntax\n"
     ]
    }
   ],
   "source": [
    "num = [i for i in range(10) if i==8  continue]\n",
    "print(num)\n"
   ]
  },
  {
   "cell_type": "code",
   "execution_count": 15,
   "id": "1c8b0133",
   "metadata": {},
   "outputs": [
    {
     "name": "stdout",
     "output_type": "stream",
     "text": [
      "[8, 16, 24]\n"
     ]
    }
   ],
   "source": [
    "num = [i for i in range(30) if i>=2 if i<=25 if i%4==0 if i%8==0]\n",
    "print(num)"
   ]
  },
  {
   "cell_type": "code",
   "execution_count": 18,
   "id": "12f3c2a3",
   "metadata": {},
   "outputs": [
    {
     "name": "stdout",
     "output_type": "stream",
     "text": [
      "['Odd', 'Even', 'Odd', 'Even', 'Odd', 'Even', 'Odd', 'Even', 'Odd', 'Even']\n"
     ]
    }
   ],
   "source": [
    "a=[\"Even\" if a%2==0 else \"Odd\" for a in range(1,11) ]\n",
    "print(a)"
   ]
  },
  {
   "cell_type": "code",
   "execution_count": 25,
   "id": "3c9c86a5",
   "metadata": {},
   "outputs": [
    {
     "name": "stdout",
     "output_type": "stream",
     "text": [
      "[2, 4, 6, 8, 10]\n"
     ]
    }
   ],
   "source": [
    "a=[i for i in range(1,11) if i%2==0  ]\n",
    "print(a)"
   ]
  },
  {
   "cell_type": "code",
   "execution_count": 29,
   "id": "5eb47f72",
   "metadata": {},
   "outputs": [
    {
     "name": "stdout",
     "output_type": "stream",
     "text": [
      "[8, 16, 24, 32, 40, 48, 56, 64, 72, 80, 88, 96, 104, 112, 120, 128, 136, 144, 152, 160, 168, 176, 184, 192, 200, 208, 216, 224, 232, 240, 248, 256, 264, 272, 280, 288, 296, 304, 312, 320, 328, 336, 344, 352, 360, 368, 376, 384, 392, 400, 408, 416, 424, 432, 440, 448, 456, 464, 472, 480, 488, 496, 504, 512, 520, 528, 536, 544, 552, 560, 568, 576, 584, 592, 600, 608, 616, 624, 632, 640, 648, 656, 664, 672, 680, 688, 696, 704, 712, 720, 728, 736, 744, 752, 760, 768, 776, 784, 792, 800, 808, 816, 824, 832, 840, 848, 856, 864, 872, 880, 888, 896, 904, 912, 920, 928, 936, 944, 952, 960, 968, 976, 984, 992, 1000]\n"
     ]
    }
   ],
   "source": [
    "a=[i for i in range(1,1001) if i%8==0 ]\n",
    "print(a)"
   ]
  },
  {
   "cell_type": "code",
   "execution_count": 28,
   "id": "2bc6e7cd",
   "metadata": {},
   "outputs": [
    {
     "name": "stdout",
     "output_type": "stream",
     "text": [
      "[1, 2, 3, 4, 5, 6, 7, 8, 9, 10, 11, 12, 13, 14, 15, 16, 17, 18, 19, 20, 21, 22, 23, 24, 25, 26, 27, 28, 29, 30, 31, 32, 33, 34, 35, 36, 37, 38, 39, 40, 41, 42, 43, 44, 45, 46, 47, 48, 49, 50, 51, 52, 53, 54, 55, 56, 57, 58, 59, 60, 61, 62, 63, 64, 65, 66, 67, 68, 69, 70, 71, 72, 73, 74, 75, 76, 77, 78, 79, 80, 81, 82, 83, 84, 85, 86, 87, 88, 89, 90, 91, 92, 93, 94, 95, 96, 97, 98, 99, 100, 101, 102, 103, 104, 105, 106, 107, 108, 109, 110, 111, 112, 113, 114, 115, 116, 117, 118, 119, 120, 121, 122, 123, 124, 125, 126, 127, 128, 129, 130, 131, 132, 133, 134, 135, 136, 137, 138, 139, 140, 141, 142, 143, 144, 145, 146, 147, 148, 149, 150, 151, 152, 153, 154, 155, 156, 157, 158, 159, 160, 161, 162, 163, 164, 165, 166, 167, 168, 169, 170, 171, 172, 173, 174, 175, 176, 177, 178, 179, 180, 181, 182, 183, 184, 185, 186, 187, 188, 189, 190, 191, 192, 193, 194, 195, 196, 197, 198, 199, 200, 201, 202, 203, 204, 205, 206, 207, 208, 209, 210, 211, 212, 213, 214, 215, 216, 217, 218, 219, 220, 221, 222, 223, 224, 225, 226, 227, 228, 229, 230, 231, 232, 233, 234, 235, 236, 237, 238, 239, 240, 241, 242, 243, 244, 245, 246, 247, 248, 249, 250, 251, 252, 253, 254, 255, 256, 257, 258, 259, 260, 261, 262, 263, 264, 265, 266, 267, 268, 269, 270, 271, 272, 273, 274, 275, 276, 277, 278, 279, 280, 281, 282, 283, 284, 285, 286, 287, 288, 289, 290, 291, 292, 293, 294, 295, 296, 297, 298, 299, 300, 301, 302, 303, 304, 305, 306, 307, 308, 309, 310, 311, 312, 313, 314, 315, 316, 317, 318, 319, 320, 321, 322, 323, 324, 325, 326, 327, 328, 329, 330, 331, 332, 333, 334, 335, 336, 337, 338, 339, 340, 341, 342, 343, 344, 345, 346, 347, 348, 349, 350, 351, 352, 353, 354, 355, 356, 357, 358, 359, 360, 361, 362, 363, 364, 365, 366, 367, 368, 369, 370, 371, 372, 373, 374, 375, 376, 377, 378, 379, 380, 381, 382, 383, 384, 385, 386, 387, 388, 389, 390, 391, 392, 393, 394, 395, 396, 397, 398, 399, 400, 401, 402, 403, 404, 405, 406, 407, 408, 409, 410, 411, 412, 413, 414, 415, 416, 417, 418, 419, 420, 421, 422, 423, 424, 425, 426, 427, 428, 429, 430, 431, 432, 433, 434, 435, 436, 437, 438, 439, 440, 441, 442, 443, 444, 445, 446, 447, 448, 449, 450, 451, 452, 453, 454, 455, 456, 457, 458, 459, 460, 461, 462, 463, 464, 465, 466, 467, 468, 469, 470, 471, 472, 473, 474, 475, 476, 477, 478, 479, 480, 481, 482, 483, 484, 485, 486, 487, 488, 489, 490, 491, 492, 493, 494, 495, 496, 497, 498, 499, 500, 501, 502, 503, 504, 505, 506, 507, 508, 509, 510, 511, 512, 513, 514, 515, 516, 517, 518, 519, 520, 521, 522, 523, 524, 525, 526, 527, 528, 529, 530, 531, 532, 533, 534, 535, 536, 537, 538, 539, 540, 541, 542, 543, 544, 545, 546, 547, 548, 549, 550, 551, 552, 553, 554, 555, 556, 557, 558, 559, 560, 561, 562, 563, 564, 565, 566, 567, 568, 569, 570, 571, 572, 573, 574, 575, 576, 577, 578, 579, 580, 581, 582, 583, 584, 585, 586, 587, 588, 589, 590, 591, 592, 593, 594, 595, 596, 597, 598, 599, 600, 601, 602, 603, 604, 605, 606, 607, 608, 609, 610, 611, 612, 613, 614, 615, 616, 617, 618, 619, 620, 621, 622, 623, 624, 625, 626, 627, 628, 629, 630, 631, 632, 633, 634, 635, 636, 637, 638, 639, 640, 641, 642, 643, 644, 645, 646, 647, 648, 649, 650, 651, 652, 653, 654, 655, 656, 657, 658, 659, 660, 661, 662, 663, 664, 665, 666, 667, 668, 669, 670, 671, 672, 673, 674, 675, 676, 677, 678, 679, 680, 681, 682, 683, 684, 685, 686, 687, 688, 689, 690, 691, 692, 693, 694, 695, 696, 697, 698, 699, 700, 701, 702, 703, 704, 705, 706, 707, 708, 709, 710, 711, 712, 713, 714, 715, 716, 717, 718, 719, 720, 721, 722, 723, 724, 725, 726, 727, 728, 729, 730, 731, 732, 733, 734, 735, 736, 737, 738, 739, 740, 741, 742, 743, 744, 745, 746, 747, 748, 749, 750, 751, 752, 753, 754, 755, 756, 757, 758, 759, 760, 761, 762, 763, 764, 765, 766, 767, 768, 769, 770, 771, 772, 773, 774, 775, 776, 777, 778, 779, 780, 781, 782, 783, 784, 785, 786, 787, 788, 789, 790, 791, 792, 793, 794, 795, 796, 797, 798, 799, 800, 801, 802, 803, 804, 805, 806, 807, 808, 809, 810, 811, 812, 813, 814, 815, 816, 817, 818, 819, 820, 821, 822, 823, 824, 825, 826, 827, 828, 829, 830, 831, 832, 833, 834, 835, 836, 837, 838, 839, 840, 841, 842, 843, 844, 845, 846, 847, 848, 849, 850, 851, 852, 853, 854, 855, 856, 857, 858, 859, 860, 861, 862, 863, 864, 865, 866, 867, 868, 869, 870, 871, 872, 873, 874, 875, 876, 877, 878, 879, 880, 881, 882, 883, 884, 885, 886, 887, 888, 889, 890, 891, 892, 893, 894, 895, 896, 897, 898, 899, 900, 901, 902, 903, 904, 905, 906, 907, 908, 909, 910, 911, 912, 913, 914, 915, 916, 917, 918, 919, 920, 921, 922, 923, 924, 925, 926, 927, 928, 929, 930, 931, 932, 933, 934, 935, 936, 937, 938, 939, 940, 941, 942, 943, 944, 945, 946, 947, 948, 949, 950, 951, 952, 953, 954, 955, 956, 957, 958, 959, 960, 961, 962, 963, 964, 965, 966, 967, 968, 969, 970, 971, 972, 973, 974, 975, 976, 977, 978, 979, 980, 981, 982, 983, 984, 985, 986, 987, 988, 989, 990, 991, 992, 993, 994, 995, 996, 997, 998, 999, 1000]\n"
     ]
    }
   ],
   "source": [
    "numbers = []\n",
    "for i in range(1,1001):\n",
    "    numbers.append(i)\n",
    "print(numbers)"
   ]
  },
  {
   "cell_type": "code",
   "execution_count": 40,
   "id": "3509b4b3",
   "metadata": {},
   "outputs": [
    {
     "name": "stdout",
     "output_type": "stream",
     "text": [
      "[6, 16, 26, 36, 46, 56, 60, 61, 62, 63, 64, 65, 66, 67, 68, 69, 76, 86, 96, 106, 116, 126, 136, 146, 156, 160, 161, 162, 163, 164, 165, 166, 167, 168, 169, 176, 186, 196, 206, 216, 226, 236, 246, 256, 260, 261, 262, 263, 264, 265, 266, 267, 268, 269, 276, 286, 296, 306, 316, 326, 336, 346, 356, 360, 361, 362, 363, 364, 365, 366, 367, 368, 369, 376, 386, 396, 406, 416, 426, 436, 446, 456, 460, 461, 462, 463, 464, 465, 466, 467, 468, 469, 476, 486, 496, 506, 516, 526, 536, 546, 556, 560, 561, 562, 563, 564, 565, 566, 567, 568, 569, 576, 586, 596, 600, 601, 602, 603, 604, 605, 606, 607, 608, 609, 610, 611, 612, 613, 614, 615, 616, 617, 618, 619, 620, 621, 622, 623, 624, 625, 626, 627, 628, 629, 630, 631, 632, 633, 634, 635, 636, 637, 638, 639, 640, 641, 642, 643, 644, 645, 646, 647, 648, 649, 650, 651, 652, 653, 654, 655, 656, 657, 658, 659, 660, 661, 662, 663, 664, 665, 666, 667, 668, 669, 670, 671, 672, 673, 674, 675, 676, 677, 678, 679, 680, 681, 682, 683, 684, 685, 686, 687, 688, 689, 690, 691, 692, 693, 694, 695, 696, 697, 698, 699, 706, 716, 726, 736, 746, 756, 760, 761, 762, 763, 764, 765, 766, 767, 768, 769, 776, 786, 796, 806, 816, 826, 836, 846, 856, 860, 861, 862, 863, 864, 865, 866, 867, 868, 869, 876, 886, 896, 906, 916, 926, 936, 946, 956, 960, 961, 962, 963, 964, 965, 966, 967, 968, 969, 976, 986, 996]\n"
     ]
    }
   ],
   "source": []
  },
  {
   "cell_type": "code",
   "execution_count": 53,
   "id": "803856ad",
   "metadata": {},
   "outputs": [
    {
     "name": "stdout",
     "output_type": "stream",
     "text": [
      "1000\n"
     ]
    }
   ],
   "source": [
    "a=len([i for i in range(1,1001) if \"\" in str(i)])\n",
    "print(a)"
   ]
  },
  {
   "cell_type": "code",
   "execution_count": 48,
   "id": "73a3c55c",
   "metadata": {},
   "outputs": [
    {
     "ename": "SyntaxError",
     "evalue": "invalid syntax (1035991961.py, line 1)",
     "output_type": "error",
     "traceback": [
      "\u001b[1;36m  Input \u001b[1;32mIn [48]\u001b[1;36m\u001b[0m\n\u001b[1;33m    a=len[i for i in range(1,1001) if i==\"\" ]\u001b[0m\n\u001b[1;37m            ^\u001b[0m\n\u001b[1;31mSyntaxError\u001b[0m\u001b[1;31m:\u001b[0m invalid syntax\n"
     ]
    }
   ],
   "source": [
    "a=len[i for i in range(1,1001) if i==\"\" ]\n",
    "print(a)"
   ]
  },
  {
   "cell_type": "code",
   "execution_count": 70,
   "id": "63d4d90f",
   "metadata": {},
   "outputs": [
    {
     "name": "stdout",
     "output_type": "stream",
     "text": [
      "[3.4, 9.0, 0.5, 8.881, 10.123, 11.23]\n"
     ]
    }
   ],
   "source": [
    "a=[1,2,3.4,9.0,.5,6,7,8.8810,10.123,11,11.23]\n",
    "b=[n for n in a if type(n)==float]\n",
    "print(b)"
   ]
  },
  {
   "cell_type": "code",
   "execution_count": 74,
   "id": "62097cdb",
   "metadata": {},
   "outputs": [
    {
     "name": "stdout",
     "output_type": "stream",
     "text": [
      "['Y', 'l', 'l', 'w', 'Y', 'k', 's', 'l', 'k', 'y', 'l', 'l', 'n', 'g', 'n', 'd', 'y', 'w', 'n', 'n', 'g', 'n', 'd', 'y', 's', 't', 'r', 'd', 'y', 't', 'h', 'y', 'y', 'd', 'l', 'd', 'w', 'h', 'l', 't', 'n', 'g', 'y', 'k', 'y', 'y', 'm', 's']\n"
     ]
    }
   ],
   "source": [
    "sentence = \"Yellow Yaks like yelling and yawning and yesturday they yodled while eating yuky yams\"\n",
    "\n",
    "result = [letter for letter in sentence if letter not in 'a,e,i,o,u, \" \"']\n",
    "print(result)"
   ]
  },
  {
   "cell_type": "code",
   "execution_count": 76,
   "id": "d4d821a4",
   "metadata": {},
   "outputs": [
    {
     "name": "stdout",
     "output_type": "stream",
     "text": [
      "[1, '0', 3, '0', 5, '0', 7, '0', 9, '0']\n"
     ]
    }
   ],
   "source": [
    "a=[\"0\"if i%2==0 else i for i in range(1,11)]\n",
    "print(a)"
   ]
  },
  {
   "cell_type": "code",
   "execution_count": 2,
   "id": "e6a37535",
   "metadata": {},
   "outputs": [
    {
     "name": "stdout",
     "output_type": "stream",
     "text": [
      "Dildar Ali\n",
      "Dildar Baloch\n",
      "Dildar arisar\n",
      "Aamir Ali\n",
      "Aamir Baloch\n",
      "Aamir arisar\n",
      "Bilal Ali\n",
      "Bilal Baloch\n",
      "Bilal arisar\n"
     ]
    }
   ],
   "source": [
    "name=[\"Dildar\",\"Aamir\",\"Bilal\"]\n",
    "sirname=[\"Ali\",\"Baloch\",\"arisar\"]\n",
    "for a in name:\n",
    "    for b in sirname:\n",
    "        print(f\"{a} {b}\")"
   ]
  },
  {
   "cell_type": "code",
   "execution_count": 6,
   "id": "9697e921",
   "metadata": {},
   "outputs": [
    {
     "data": {
      "text/plain": [
       "'DILDAR'"
      ]
     },
     "execution_count": 6,
     "metadata": {},
     "output_type": "execute_result"
    }
   ],
   "source": [
    "n=\"DILDAR\"\n",
    "n\n"
   ]
  },
  {
   "cell_type": "code",
   "execution_count": 7,
   "id": "a2c6e2b0",
   "metadata": {},
   "outputs": [
    {
     "data": {
      "text/plain": [
       "'RADLID'"
      ]
     },
     "execution_count": 7,
     "metadata": {},
     "output_type": "execute_result"
    }
   ],
   "source": [
    "n[::-1]"
   ]
  },
  {
   "cell_type": "code",
   "execution_count": 8,
   "id": "8e2de9c6",
   "metadata": {},
   "outputs": [
    {
     "data": {
      "text/plain": [
       "'DILDAR'"
      ]
     },
     "execution_count": 8,
     "metadata": {},
     "output_type": "execute_result"
    }
   ],
   "source": [
    "n[::1]"
   ]
  },
  {
   "cell_type": "code",
   "execution_count": 10,
   "id": "b8df6feb",
   "metadata": {},
   "outputs": [
    {
     "data": {
      "text/plain": [
       "'RADLID'"
      ]
     },
     "execution_count": 10,
     "metadata": {},
     "output_type": "execute_result"
    }
   ],
   "source": [
    "n[-1:-8:-1]"
   ]
  },
  {
   "cell_type": "code",
   "execution_count": 13,
   "id": "7fc3695b",
   "metadata": {},
   "outputs": [
    {
     "name": "stdout",
     "output_type": "stream",
     "text": [
      "AamirBaloch\n",
      "BilalALi\n",
      "DildarKhan\n"
     ]
    }
   ],
   "source": [
    "a=[\"Aamir\",\"Bilal\",\"Dildar\"]\n",
    "b=[\"Baloch\",\"ALi\",\"Khan\"]\n",
    "for name in a:\n",
    "    print(name + b[a.index(name)])"
   ]
  },
  {
   "cell_type": "code",
   "execution_count": 14,
   "id": "c913fabc",
   "metadata": {},
   "outputs": [
    {
     "name": "stdout",
     "output_type": "stream",
     "text": [
      "Aamir Baloch\n",
      "Bilal ALi\n",
      "Dildar Khan\n"
     ]
    }
   ],
   "source": [
    "a=[\"Aamir\",\"Bilal\",\"Dildar\"]\n",
    "b=[\"Baloch\",\"ALi\",\"Khan\"]\n",
    "for i in a:\n",
    "    print(f\"{i} {b[a.index(i)]}\")"
   ]
  },
  {
   "cell_type": "code",
   "execution_count": 16,
   "id": "38e72a74",
   "metadata": {},
   "outputs": [
    {
     "name": "stdout",
     "output_type": "stream",
     "text": [
      "Apple Bhindi\n",
      "Apple AAloo\n",
      "Apple Lokki\n",
      "Apple Kaddoo\n",
      "Banana Bhindi\n",
      "Banana AAloo\n",
      "Banana Lokki\n",
      "Banana Kaddoo\n",
      "Mango Bhindi\n",
      "Mango AAloo\n",
      "Mango Lokki\n",
      "Mango Kaddoo\n",
      "Grapes Bhindi\n",
      "Grapes AAloo\n",
      "Grapes Lokki\n",
      "Grapes Kaddoo\n"
     ]
    }
   ],
   "source": [
    "f=[\"Apple\",\"Banana\",\"Mango\",\"Grapes\"]\n",
    "veg=[\"Bhindi\",'AAloo',\"Lokki\",\"Kaddoo\"]\n",
    "for i in f:\n",
    "    for h in veg:\n",
    "        print(f\"{i} {h}\")"
   ]
  },
  {
   "cell_type": "code",
   "execution_count": 17,
   "id": "f7047010",
   "metadata": {},
   "outputs": [
    {
     "name": "stdout",
     "output_type": "stream",
     "text": [
      "AppleBhindi\n",
      "BananaAAloo\n",
      "MangoLokki\n",
      "GrapesKaddoo\n"
     ]
    }
   ],
   "source": [
    "f=[\"Apple\",\"Banana\",\"Mango\",\"Grapes\"]\n",
    "veg=[\"Bhindi\",'AAloo',\"Lokki\",\"Kaddoo\"]\n",
    "for i in f:\n",
    "    print(i+veg[f.index(i)])"
   ]
  },
  {
   "cell_type": "code",
   "execution_count": 19,
   "id": "cd7b2713",
   "metadata": {},
   "outputs": [
    {
     "name": "stdout",
     "output_type": "stream",
     "text": [
      "Apple Bhindi\n",
      "Banana AAloo\n",
      "Mango Lokki\n",
      "Grapes Kaddoo\n"
     ]
    }
   ],
   "source": [
    "f=[\"Apple\",\"Banana\",\"Mango\",\"Grapes\"]\n",
    "veg=[\"Bhindi\",'AAloo',\"Lokki\",\"Kaddoo\"]\n",
    "for i in f:\n",
    "    print(f\"{i} {veg[f.index(i)]}\")"
   ]
  },
  {
   "cell_type": "code",
   "execution_count": 20,
   "id": "634fd797",
   "metadata": {},
   "outputs": [
    {
     "data": {
      "text/plain": [
       "{'Name': 'dildar', 'ID': '27142', 'Course': 'AI'}"
      ]
     },
     "execution_count": 20,
     "metadata": {},
     "output_type": "execute_result"
    }
   ],
   "source": [
    "a={\"Name\":\"dildar\",\"ID\":\"27142\",\"Course\":\"AI\"}\n",
    "a"
   ]
  },
  {
   "cell_type": "code",
   "execution_count": 21,
   "id": "05bfa689",
   "metadata": {},
   "outputs": [
    {
     "data": {
      "text/plain": [
       "{'Name': 'dildar', 'ID': '27142', 'Course': 'AI', 'City': 'Karachi'}"
      ]
     },
     "execution_count": 21,
     "metadata": {},
     "output_type": "execute_result"
    }
   ],
   "source": [
    "a[\"City\"]=\"Karachi\"\n",
    "a"
   ]
  },
  {
   "cell_type": "code",
   "execution_count": 22,
   "id": "22a6fe06",
   "metadata": {},
   "outputs": [
    {
     "data": {
      "text/plain": [
       "{'Name': 'dildar', 'ID': '27142', 'Course': 'AI', 'City': 'Dadu'}"
      ]
     },
     "execution_count": 22,
     "metadata": {},
     "output_type": "execute_result"
    }
   ],
   "source": [
    "a[\"City\"]=\"Dadu\"\n",
    "a"
   ]
  },
  {
   "cell_type": "code",
   "execution_count": 23,
   "id": "c3fc4b13",
   "metadata": {},
   "outputs": [
    {
     "data": {
      "text/plain": [
       "{'Name': 'dildar', 'ID': '27142', 'Course': 'AI'}"
      ]
     },
     "execution_count": 23,
     "metadata": {},
     "output_type": "execute_result"
    }
   ],
   "source": [
    "del a[\"City\"]\n",
    "a"
   ]
  },
  {
   "cell_type": "code",
   "execution_count": 24,
   "id": "be77cff2",
   "metadata": {},
   "outputs": [
    {
     "data": {
      "text/plain": [
       "{'Name': 'Dildar Ali', 'ID': '27142', 'Course': 'AI'}"
      ]
     },
     "execution_count": 24,
     "metadata": {},
     "output_type": "execute_result"
    }
   ],
   "source": [
    "a[\"Name\"]=\"Dildar Ali\"\n",
    "a"
   ]
  },
  {
   "cell_type": "code",
   "execution_count": 25,
   "id": "a685a992",
   "metadata": {},
   "outputs": [
    {
     "data": {
      "text/plain": [
       "{'score': 123, 'Babar': 89, 'Rizwan': 78}"
      ]
     },
     "execution_count": 25,
     "metadata": {},
     "output_type": "execute_result"
    }
   ],
   "source": [
    "b={\"score\":123,\"Babar\":89,\"Rizwan\":78}\n",
    "b"
   ]
  },
  {
   "cell_type": "code",
   "execution_count": 27,
   "id": "465b285b",
   "metadata": {},
   "outputs": [
    {
     "name": "stdout",
     "output_type": "stream",
     "text": [
      "score\n",
      "Babar\n",
      "Rizwan\n"
     ]
    }
   ],
   "source": [
    "for i in b.keys():\n",
    "    print(i)\n",
    "    "
   ]
  },
  {
   "cell_type": "code",
   "execution_count": 28,
   "id": "8cd7e53a",
   "metadata": {},
   "outputs": [
    {
     "name": "stdout",
     "output_type": "stream",
     "text": [
      "123\n",
      "89\n",
      "78\n"
     ]
    }
   ],
   "source": [
    "for i in b.values():\n",
    "    print(i)"
   ]
  },
  {
   "cell_type": "code",
   "execution_count": 29,
   "id": "788ed3cc",
   "metadata": {},
   "outputs": [
    {
     "name": "stdout",
     "output_type": "stream",
     "text": [
      "('score', 123)\n",
      "('Babar', 89)\n",
      "('Rizwan', 78)\n"
     ]
    }
   ],
   "source": [
    "for i in b.items():\n",
    "    print(i)"
   ]
  },
  {
   "cell_type": "code",
   "execution_count": 34,
   "id": "2b86276e",
   "metadata": {},
   "outputs": [
    {
     "name": "stdout",
     "output_type": "stream",
     "text": [
      "123\n",
      "89\n",
      "78\n"
     ]
    }
   ],
   "source": [
    "for key in b.keys():\n",
    "    print(b[key])"
   ]
  },
  {
   "cell_type": "code",
   "execution_count": 36,
   "id": "6601c768",
   "metadata": {},
   "outputs": [
    {
     "ename": "KeyError",
     "evalue": "123",
     "output_type": "error",
     "traceback": [
      "\u001b[1;31m---------------------------------------------------------------------------\u001b[0m",
      "\u001b[1;31mKeyError\u001b[0m                                  Traceback (most recent call last)",
      "Input \u001b[1;32mIn [36]\u001b[0m, in \u001b[0;36m<cell line: 1>\u001b[1;34m()\u001b[0m\n\u001b[0;32m      1\u001b[0m \u001b[38;5;28;01mfor\u001b[39;00m val \u001b[38;5;129;01min\u001b[39;00m b\u001b[38;5;241m.\u001b[39mvalues():\n\u001b[1;32m----> 4\u001b[0m     \u001b[38;5;28mprint\u001b[39m(\u001b[43mb\u001b[49m\u001b[43m[\u001b[49m\u001b[43mval\u001b[49m\u001b[43m]\u001b[49m)\n",
      "\u001b[1;31mKeyError\u001b[0m: 123"
     ]
    }
   ],
   "source": []
  },
  {
   "cell_type": "code",
   "execution_count": 40,
   "id": "6426c7b8",
   "metadata": {},
   "outputs": [
    {
     "name": "stdout",
     "output_type": "stream",
     "text": [
      "Dildar's favorite language is Python.\n",
      "Aamir's favorite language is C.\n",
      "Bilal's favorite language is Ruby.\n",
      "Umair's favorite language is Python.\n"
     ]
    }
   ],
   "source": [
    "favorite_languages = {\n",
    " 'Dildar': 'python',\n",
    " 'Aamir': 'c',\n",
    " 'bilal': 'ruby',\n",
    " 'umair': 'python',\n",
    " }\n",
    "for name, language in favorite_languages.items():\n",
    "         print(name.title() + \"'s favorite language is \" + language.title() + \".\")"
   ]
  },
  {
   "cell_type": "code",
   "execution_count": 39,
   "id": "6afcd739",
   "metadata": {
    "scrolled": true
   },
   "outputs": [
    {
     "name": "stdout",
     "output_type": "stream",
     "text": [
      "Dildar 's favourite fruit is  Apple\n",
      "Aamir 's favourite fruit is  Mango\n",
      "Bilal 's favourite fruit is  Banana\n"
     ]
    }
   ],
   "source": [
    "fav_fruits={\n",
    "    \"Dildar\":\"Apple\",\n",
    "    \"Aamir\":\"Mango\",\n",
    "    \"Bilal\":\"Banana\"\n",
    "}\n",
    "for a,b in fav_fruits.items():\n",
    "    print(a.title(),\"'s favourite fruit is \",b.title())\n"
   ]
  },
  {
   "cell_type": "code",
   "execution_count": 43,
   "id": "ab521e66",
   "metadata": {},
   "outputs": [
    {
     "name": "stdout",
     "output_type": "stream",
     "text": [
      "Dildar 's favourite number is  1860\n",
      "Aamir 's favourite number is  786\n",
      "Bilal 's favourite number is  123\n"
     ]
    }
   ],
   "source": [
    "fav_numbers={\n",
    "    \"Dildar\":1860,\n",
    "    \"Aamir\":786,\n",
    "    \"Bilal\":123\n",
    "}\n",
    "for a,b in fav_numbers.items():\n",
    "    print(a,\"'s favourite number is \",b)\n"
   ]
  },
  {
   "cell_type": "code",
   "execution_count": 2,
   "id": "ef13d913",
   "metadata": {},
   "outputs": [
    {
     "name": "stdout",
     "output_type": "stream",
     "text": [
      "Aamir Khushk\n",
      "Aamir Baloch\n",
      "Aamir Arisar\n",
      "Dildar Khushk\n",
      "Dildar Baloch\n",
      "Dildar Arisar\n",
      "Bilal Khushk\n",
      "Bilal Baloch\n",
      "Bilal Arisar\n"
     ]
    }
   ],
   "source": [
    "a=[\"Aamir\",\"Dildar\",\"Bilal\"]\n",
    "b=[\"Khushk\",\"Baloch\",\"Arisar\"]\n",
    "for name in a:\n",
    "    for sirname in b:\n",
    "        print(name,sirname)\n"
   ]
  },
  {
   "cell_type": "code",
   "execution_count": 3,
   "id": "a54a8a07",
   "metadata": {},
   "outputs": [
    {
     "name": "stdout",
     "output_type": "stream",
     "text": [
      "AamirKhushk\n",
      "DildarBaloch\n",
      "BilalArisar\n"
     ]
    }
   ],
   "source": [
    "a=[\"Aamir\",\"Dildar\",\"Bilal\"]\n",
    "b=[\"Khushk\",\"Baloch\",\"Arisar\"]\n",
    "for i in a:\n",
    "    print(i+b[a.index(i)])\n",
    "    "
   ]
  },
  {
   "cell_type": "code",
   "execution_count": 5,
   "id": "cc19beff",
   "metadata": {},
   "outputs": [
    {
     "name": "stdout",
     "output_type": "stream",
     "text": [
      "Aamir Khushk\n",
      "Dildar Baloch\n",
      "Bilal Arisar\n"
     ]
    }
   ],
   "source": [
    "a=[\"Aamir\",\"Dildar\",\"Bilal\"]\n",
    "b=[\"Khushk\",\"Baloch\",\"Arisar\"]\n",
    "for i in a:\n",
    "    print(f\"{i} {b[a.index(i)]}\")"
   ]
  },
  {
   "cell_type": "code",
   "execution_count": 6,
   "id": "4facb92a",
   "metadata": {},
   "outputs": [
    {
     "data": {
      "text/plain": [
       "{'Name': 'Dildar', 'ID': 27142, 'Dept': 'AI & DS'}"
      ]
     },
     "execution_count": 6,
     "metadata": {},
     "output_type": "execute_result"
    }
   ],
   "source": [
    "a={\"Name\":\"Dildar\",\"ID\":27142,\"Dept\":\"AI & DS\"}\n",
    "a"
   ]
  },
  {
   "cell_type": "code",
   "execution_count": 7,
   "id": "7d6b0e6f",
   "metadata": {},
   "outputs": [],
   "source": [
    "a=\"PYTHON\"\n"
   ]
  },
  {
   "cell_type": "code",
   "execution_count": 8,
   "id": "f91ea679",
   "metadata": {},
   "outputs": [
    {
     "data": {
      "text/plain": [
       "'PYTHON'"
      ]
     },
     "execution_count": 8,
     "metadata": {},
     "output_type": "execute_result"
    }
   ],
   "source": [
    "a"
   ]
  },
  {
   "cell_type": "code",
   "execution_count": 13,
   "id": "28f2e65c",
   "metadata": {},
   "outputs": [
    {
     "name": "stdout",
     "output_type": "stream",
     "text": [
      "N\n",
      "H\n",
      "Y\n"
     ]
    }
   ],
   "source": [
    "for i in a[::-2]:\n",
    "    print( i)"
   ]
  },
  {
   "cell_type": "code",
   "execution_count": null,
   "id": "b4df549b",
   "metadata": {},
   "outputs": [],
   "source": []
  }
 ],
 "metadata": {
  "kernelspec": {
   "display_name": "Python 3 (ipykernel)",
   "language": "python",
   "name": "python3"
  },
  "language_info": {
   "codemirror_mode": {
    "name": "ipython",
    "version": 3
   },
   "file_extension": ".py",
   "mimetype": "text/x-python",
   "name": "python",
   "nbconvert_exporter": "python",
   "pygments_lexer": "ipython3",
   "version": "3.9.12"
  }
 },
 "nbformat": 4,
 "nbformat_minor": 5
}
